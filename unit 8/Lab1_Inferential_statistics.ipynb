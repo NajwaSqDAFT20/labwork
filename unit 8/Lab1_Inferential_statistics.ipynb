{
 "cells": [
  {
   "cell_type": "code",
   "execution_count": 1,
   "metadata": {},
   "outputs": [],
   "source": [
    "import pandas as pd\n",
    "import numpy as np\n",
    "pd.set_option('display.max_columns', None)\n",
    "import warnings\n",
    "warnings.filterwarnings('ignore')\n",
    "import matplotlib.pyplot as plt\n",
    "import seaborn as sns \n",
    "from scipy import stats"
   ]
  },
  {
   "cell_type": "code",
   "execution_count": 4,
   "metadata": {},
   "outputs": [
    {
     "name": "stdout",
     "output_type": "stream",
     "text": [
      "Statistic is:  4.761904761904759\n"
     ]
    }
   ],
   "source": [
    "# Lab 1\n",
    "#t distribution is used as an alternative to normal distribution when sample size is small in order to determine \n",
    "#confidence and criticial values. the samller the sample size is the more it differs from the normal distribution\n",
    "#degrees of freedom = n-1 = 99 \n",
    "# null hypothisis m = 120 \n",
    "# sample mean = pop_mean \n",
    "#A critical region, also known as the rejection region, is a set of values for the test \n",
    "#statistic for which the null hypothesis is rejected. i.e. if the observed test statistic is in the critical\n",
    "#region then we reject the null hypothesis and accept the alternative hypothesis.\n",
    "\n",
    "\n",
    "import math\n",
    "#test statistic\n",
    "sample_mean = 130.1\n",
    "pop_mean = 120\n",
    "sample_std = 21.21\n",
    "n = 100\n",
    "statistic = (sample_mean - pop_mean)/(sample_std/math.sqrt(n))\n",
    "print(\"Statistic is: \", statistic)"
   ]
  },
  {
   "cell_type": "code",
   "execution_count": 6,
   "metadata": {},
   "outputs": [],
   "source": [
    "# t table https://www.sjsu.edu/faculty/gerstman/StatPrimer/t-table.pdf\n",
    "#.05 is 2 tails/2 = .25\n",
    "# t.25,99 =  1.984. Our statistic 4.7 so it belongs to the rejection area. Therefore, we reject our null hypothesis\n"
   ]
  },
  {
   "cell_type": "code",
   "execution_count": null,
   "metadata": {},
   "outputs": [],
   "source": []
  },
  {
   "cell_type": "code",
   "execution_count": null,
   "metadata": {},
   "outputs": [],
   "source": []
  }
 ],
 "metadata": {
  "kernelspec": {
   "display_name": "Bootcamp",
   "language": "python",
   "name": "bootcamp"
  },
  "language_info": {
   "codemirror_mode": {
    "name": "ipython",
    "version": 3
   },
   "file_extension": ".py",
   "mimetype": "text/x-python",
   "name": "python",
   "nbconvert_exporter": "python",
   "pygments_lexer": "ipython3",
   "version": "3.8.5"
  }
 },
 "nbformat": 4,
 "nbformat_minor": 4
}
