{
 "cells": [
  {
   "cell_type": "markdown",
   "metadata": {},
   "source": [
    "### HTML is the code we use to structure a web page. \n",
    "* is not a programming language, is a markup language\n",
    "* consists of elements(opening tag, closing tag, content)\n",
    "* elements can have attributes: extra infotmation about the element \n",
    "* class attribute allows you to give the element a non-unique identifier that can be used to target it\n",
    "* https://www.w3schools.com/TAGS/default.ASP\n",
    "#### what are the difference between attributes and tags?\n",
    "*h1> tags always has an oppening and ending /h1>\n",
    "*atributes have additional information: src=\"my.jpg\""
   ]
  },
  {
   "cell_type": "markdown",
   "metadata": {},
   "source": [
    "### Case study: The site for recommendations - \"Gnod\",\n",
    "Tasks: 1. scraping billboard top 100 songs\n",
    "       2. create a dataframe\n",
    "      \n"
   ]
  },
  {
   "cell_type": "code",
   "execution_count": 61,
   "metadata": {},
   "outputs": [],
   "source": [
    "#get libraries \n",
    "import requests #allowing us to get relevant info from the webpages\n",
    "from bs4 import BeautifulSoup #extract data from HTML files\n",
    "import pandas as pd\n",
    "#for later advanced purposes\n",
    "#from time import sleep # preventing us from overwhelming the server by sending too many requests\n",
    "from datetime import date, timedelta # to see the date"
   ]
  },
  {
   "cell_type": "code",
   "execution_count": 62,
   "metadata": {},
   "outputs": [],
   "source": [
    "#1.before starting doing anything, interact with the page, see what's there\n",
    "#2. store URL in a variable\n",
    "#3. "
   ]
  },
  {
   "cell_type": "code",
   "execution_count": 63,
   "metadata": {},
   "outputs": [],
   "source": [
    "# store URL in a variable \n",
    "url= 'https://www.billboard.com/charts/hot-100'"
   ]
  },
  {
   "cell_type": "code",
   "execution_count": 64,
   "metadata": {},
   "outputs": [
    {
     "data": {
      "text/plain": [
       "200"
      ]
     },
     "execution_count": 64,
     "metadata": {},
     "output_type": "execute_result"
    }
   ],
   "source": [
    "# now let's get content \n",
    "r = requests.get(url)\n",
    "r.status_code # 200 status code means OK!"
   ]
  },
  {
   "cell_type": "code",
   "execution_count": 87,
   "metadata": {},
   "outputs": [],
   "source": [
    "# parse html (create the 'soup')\n",
    "soup = BeautifulSoup(r.content, \"html.parser\")\n",
    "#check that the html code looks like it should\n",
    "#soup"
   ]
  },
  {
   "cell_type": "code",
   "execution_count": 89,
   "metadata": {},
   "outputs": [],
   "source": [
    "#print (soup)"
   ]
  },
  {
   "cell_type": "code",
   "execution_count": 73,
   "metadata": {},
   "outputs": [
    {
     "name": "stdout",
     "output_type": "stream",
     "text": [
      "[<span class=\"chart-element__information__song text--truncate color--primary\">Life Goes On</span>, <span class=\"chart-element__information__song text--truncate color--primary\">Mood</span>, <span class=\"chart-element__information__song text--truncate color--primary\">Dynamite</span>, <span class=\"chart-element__information__song text--truncate color--primary\">Positions</span>, <span class=\"chart-element__information__song text--truncate color--primary\">I Hope</span>, <span class=\"chart-element__information__song text--truncate color--primary\">Holy</span>, <span class=\"chart-element__information__song text--truncate color--primary\">Laugh Now Cry Later</span>, <span class=\"chart-element__information__song text--truncate color--primary\">Monster</span>, <span class=\"chart-element__information__song text--truncate color--primary\">Blinding Lights</span>, <span class=\"chart-element__information__song text--truncate color--primary\">Lemonade</span>]\n"
     ]
    }
   ],
   "source": [
    "# extract relevent data, what we need: artist name and song name right?\n",
    "# use inspector developer to easily navigate the location \n",
    "#i used dic\n",
    "songs = soup. find_all('span', attrs = {'class':'chart-element__information__song'})[:10] #find all returns a list\n",
    "print (songs)\n"
   ]
  },
  {
   "cell_type": "code",
   "execution_count": 68,
   "metadata": {},
   "outputs": [
    {
     "name": "stdout",
     "output_type": "stream",
     "text": [
      "[<span class=\"chart-element__information__artist text--truncate color--secondary\">BTS</span>, <span class=\"chart-element__information__artist text--truncate color--secondary\">24kGoldn Featuring iann dior</span>, <span class=\"chart-element__information__artist text--truncate color--secondary\">BTS</span>, <span class=\"chart-element__information__artist text--truncate color--secondary\">Ariana Grande</span>, <span class=\"chart-element__information__artist text--truncate color--secondary\">Gabby Barrett Featuring Charlie Puth</span>, <span class=\"chart-element__information__artist text--truncate color--secondary\">Justin Bieber Featuring Chance The Rapper</span>, <span class=\"chart-element__information__artist text--truncate color--secondary\">Drake Featuring Lil Durk</span>, <span class=\"chart-element__information__artist text--truncate color--secondary\">Shawn Mendes &amp; Justin Bieber</span>, <span class=\"chart-element__information__artist text--truncate color--secondary\">The Weeknd</span>, <span class=\"chart-element__information__artist text--truncate color--secondary\">Internet Money &amp; Gunna Featuring Don Toliver &amp; NAV</span>]\n"
     ]
    }
   ],
   "source": [
    "artists = soup. find_all('span', attrs = {'class':'chart-element__information__artist'})[:10]\n",
    "print (artists)"
   ]
  },
  {
   "cell_type": "code",
   "execution_count": 75,
   "metadata": {},
   "outputs": [
    {
     "data": {
      "text/plain": [
       "[<span class=\"chart-element__information__song text--truncate color--primary\">Life Goes On</span>,\n",
       " <span class=\"chart-element__information__song text--truncate color--primary\">Mood</span>,\n",
       " <span class=\"chart-element__information__song text--truncate color--primary\">Dynamite</span>,\n",
       " <span class=\"chart-element__information__song text--truncate color--primary\">Positions</span>,\n",
       " <span class=\"chart-element__information__song text--truncate color--primary\">I Hope</span>,\n",
       " <span class=\"chart-element__information__song text--truncate color--primary\">Holy</span>,\n",
       " <span class=\"chart-element__information__song text--truncate color--primary\">Laugh Now Cry Later</span>,\n",
       " <span class=\"chart-element__information__song text--truncate color--primary\">Monster</span>,\n",
       " <span class=\"chart-element__information__song text--truncate color--primary\">Blinding Lights</span>,\n",
       " <span class=\"chart-element__information__song text--truncate color--primary\">Lemonade</span>]"
      ]
     },
     "execution_count": 75,
     "metadata": {},
     "output_type": "execute_result"
    }
   ],
   "source": [
    "soup.select('span.chart-element__information__song')[:10]"
   ]
  },
  {
   "cell_type": "code",
   "execution_count": 82,
   "metadata": {},
   "outputs": [
    {
     "data": {
      "text/plain": [
       "[<span class=\"chart-element__information__artist text--truncate color--secondary\">BTS</span>,\n",
       " <span class=\"chart-element__information__artist text--truncate color--secondary\">24kGoldn Featuring iann dior</span>,\n",
       " <span class=\"chart-element__information__artist text--truncate color--secondary\">BTS</span>,\n",
       " <span class=\"chart-element__information__artist text--truncate color--secondary\">Ariana Grande</span>,\n",
       " <span class=\"chart-element__information__artist text--truncate color--secondary\">Gabby Barrett Featuring Charlie Puth</span>,\n",
       " <span class=\"chart-element__information__artist text--truncate color--secondary\">Justin Bieber Featuring Chance The Rapper</span>,\n",
       " <span class=\"chart-element__information__artist text--truncate color--secondary\">Drake Featuring Lil Durk</span>,\n",
       " <span class=\"chart-element__information__artist text--truncate color--secondary\">Shawn Mendes &amp; Justin Bieber</span>,\n",
       " <span class=\"chart-element__information__artist text--truncate color--secondary\">The Weeknd</span>,\n",
       " <span class=\"chart-element__information__artist text--truncate color--secondary\">Internet Money &amp; Gunna Featuring Don Toliver &amp; NAV</span>]"
      ]
     },
     "execution_count": 82,
     "metadata": {},
     "output_type": "execute_result"
    }
   ],
   "source": [
    "soup.select('span.chart-element__information__artist')[:10] #to extract the content of the tags"
   ]
  },
  {
   "cell_type": "code",
   "execution_count": 83,
   "metadata": {},
   "outputs": [
    {
     "data": {
      "text/plain": [
       "'Billie Eilish'"
      ]
     },
     "execution_count": 83,
     "metadata": {},
     "output_type": "execute_result"
    }
   ],
   "source": [
    "soup.select('span.chart-element__information__artist')[10].get_text()"
   ]
  },
  {
   "cell_type": "code",
   "execution_count": 90,
   "metadata": {},
   "outputs": [],
   "source": [
    "#putting it into a dataframe\n",
    "#let's have lists for songs and artists\n",
    "songs = []\n",
    "artists = []\n"
   ]
  },
  {
   "cell_type": "code",
   "execution_count": 91,
   "metadata": {},
   "outputs": [
    {
     "data": {
      "text/plain": [
       "100"
      ]
     },
     "execution_count": 91,
     "metadata": {},
     "output_type": "execute_result"
    }
   ],
   "source": [
    "len (soup.select('span.chart-element__information__artist'))"
   ]
  },
  {
   "cell_type": "code",
   "execution_count": 93,
   "metadata": {},
   "outputs": [],
   "source": [
    "num_iter= len (soup.select('span.chart-element__information__song'))"
   ]
  },
  {
   "cell_type": "code",
   "execution_count": 97,
   "metadata": {},
   "outputs": [],
   "source": [
    "# iterate through the result set and retrive all the data\n",
    "for i in range(num_iter):\n",
    "    songs.append(soup.select('span.chart-element__information__song')[i].get_text())\n",
    "    artists.append(soup.select('span.chart-element__information__artist')[i].get_text())\n",
    "#print (songs)\n",
    "#print (artists)"
   ]
  },
  {
   "cell_type": "code",
   "execution_count": 98,
   "metadata": {},
   "outputs": [],
   "source": [
    "# now it is time to have our massive dataframe :)\n",
    "\n",
    "top_songs_list= pd.DataFrame({\"songs\":songs,\n",
    "                       \"artists\":artists,})"
   ]
  },
  {
   "cell_type": "code",
   "execution_count": 104,
   "metadata": {},
   "outputs": [
    {
     "data": {
      "text/html": [
       "<div>\n",
       "<style scoped>\n",
       "    .dataframe tbody tr th:only-of-type {\n",
       "        vertical-align: middle;\n",
       "    }\n",
       "\n",
       "    .dataframe tbody tr th {\n",
       "        vertical-align: top;\n",
       "    }\n",
       "\n",
       "    .dataframe thead th {\n",
       "        text-align: right;\n",
       "    }\n",
       "</style>\n",
       "<table border=\"1\" class=\"dataframe\">\n",
       "  <thead>\n",
       "    <tr style=\"text-align: right;\">\n",
       "      <th></th>\n",
       "      <th>songs</th>\n",
       "      <th>artists</th>\n",
       "    </tr>\n",
       "  </thead>\n",
       "  <tbody>\n",
       "    <tr>\n",
       "      <th>0</th>\n",
       "      <td>Life Goes On</td>\n",
       "      <td>BTS</td>\n",
       "    </tr>\n",
       "    <tr>\n",
       "      <th>1</th>\n",
       "      <td>Mood</td>\n",
       "      <td>24kGoldn Featuring iann dior</td>\n",
       "    </tr>\n",
       "    <tr>\n",
       "      <th>2</th>\n",
       "      <td>Dynamite</td>\n",
       "      <td>BTS</td>\n",
       "    </tr>\n",
       "    <tr>\n",
       "      <th>3</th>\n",
       "      <td>Positions</td>\n",
       "      <td>Ariana Grande</td>\n",
       "    </tr>\n",
       "    <tr>\n",
       "      <th>4</th>\n",
       "      <td>I Hope</td>\n",
       "      <td>Gabby Barrett Featuring Charlie Puth</td>\n",
       "    </tr>\n",
       "  </tbody>\n",
       "</table>\n",
       "</div>"
      ],
      "text/plain": [
       "          songs                               artists\n",
       "0  Life Goes On                                   BTS\n",
       "1          Mood          24kGoldn Featuring iann dior\n",
       "2      Dynamite                                   BTS\n",
       "3     Positions                         Ariana Grande\n",
       "4        I Hope  Gabby Barrett Featuring Charlie Puth"
      ]
     },
     "execution_count": 104,
     "metadata": {},
     "output_type": "execute_result"
    }
   ],
   "source": [
    "top_songs_list.head()"
   ]
  },
  {
   "cell_type": "code",
   "execution_count": 109,
   "metadata": {},
   "outputs": [
    {
     "data": {
      "text/html": [
       "<div>\n",
       "<style scoped>\n",
       "    .dataframe tbody tr th:only-of-type {\n",
       "        vertical-align: middle;\n",
       "    }\n",
       "\n",
       "    .dataframe tbody tr th {\n",
       "        vertical-align: top;\n",
       "    }\n",
       "\n",
       "    .dataframe thead th {\n",
       "        text-align: right;\n",
       "    }\n",
       "</style>\n",
       "<table border=\"1\" class=\"dataframe\">\n",
       "  <thead>\n",
       "    <tr style=\"text-align: right;\">\n",
       "      <th></th>\n",
       "      <th>songs</th>\n",
       "      <th>artists</th>\n",
       "    </tr>\n",
       "  </thead>\n",
       "  <tbody>\n",
       "    <tr>\n",
       "      <th>count</th>\n",
       "      <td>400</td>\n",
       "      <td>400</td>\n",
       "    </tr>\n",
       "    <tr>\n",
       "      <th>unique</th>\n",
       "      <td>100</td>\n",
       "      <td>82</td>\n",
       "    </tr>\n",
       "    <tr>\n",
       "      <th>top</th>\n",
       "      <td>Throat Baby (Go Baby)</td>\n",
       "      <td>BTS</td>\n",
       "    </tr>\n",
       "    <tr>\n",
       "      <th>freq</th>\n",
       "      <td>4</td>\n",
       "      <td>28</td>\n",
       "    </tr>\n",
       "  </tbody>\n",
       "</table>\n",
       "</div>"
      ],
      "text/plain": [
       "                        songs artists\n",
       "count                     400     400\n",
       "unique                    100      82\n",
       "top     Throat Baby (Go Baby)     BTS\n",
       "freq                        4      28"
      ]
     },
     "execution_count": 109,
     "metadata": {},
     "output_type": "execute_result"
    }
   ],
   "source": [
    "top_songs_list.describe ()"
   ]
  },
  {
   "cell_type": "code",
   "execution_count": 110,
   "metadata": {},
   "outputs": [],
   "source": [
    "# why did i get duplicates? \n",
    "duplicated_songs = top_songs_list[top_songs_list.duplicated(['songs'], keep = False)]"
   ]
  },
  {
   "cell_type": "code",
   "execution_count": 112,
   "metadata": {},
   "outputs": [
    {
     "data": {
      "text/plain": [
       "Throat Baby (Go Baby)                    4\n",
       "Let It Snow, Let It Snow, Let It Snow    4\n",
       "34+35                                    4\n",
       "Took Her To The O                        4\n",
       "More Than My Hometown                    4\n",
       "                                        ..\n",
       "Therefore I Am                           4\n",
       "Don't Stop                               4\n",
       "Kings & Queens                           4\n",
       "I Hope                                   4\n",
       "One Beer                                 4\n",
       "Name: songs, Length: 100, dtype: int64"
      ]
     },
     "execution_count": 112,
     "metadata": {},
     "output_type": "execute_result"
    }
   ],
   "source": [
    "duplicated_songs ['songs'].value_counts()"
   ]
  },
  {
   "cell_type": "code",
   "execution_count": 113,
   "metadata": {},
   "outputs": [],
   "source": [
    "topsongs = top_songs_list.drop_duplicates()"
   ]
  },
  {
   "cell_type": "code",
   "execution_count": 114,
   "metadata": {},
   "outputs": [
    {
     "data": {
      "text/html": [
       "<div>\n",
       "<style scoped>\n",
       "    .dataframe tbody tr th:only-of-type {\n",
       "        vertical-align: middle;\n",
       "    }\n",
       "\n",
       "    .dataframe tbody tr th {\n",
       "        vertical-align: top;\n",
       "    }\n",
       "\n",
       "    .dataframe thead th {\n",
       "        text-align: right;\n",
       "    }\n",
       "</style>\n",
       "<table border=\"1\" class=\"dataframe\">\n",
       "  <thead>\n",
       "    <tr style=\"text-align: right;\">\n",
       "      <th></th>\n",
       "      <th>songs</th>\n",
       "      <th>artists</th>\n",
       "    </tr>\n",
       "  </thead>\n",
       "  <tbody>\n",
       "    <tr>\n",
       "      <th>count</th>\n",
       "      <td>100</td>\n",
       "      <td>100</td>\n",
       "    </tr>\n",
       "    <tr>\n",
       "      <th>unique</th>\n",
       "      <td>100</td>\n",
       "      <td>82</td>\n",
       "    </tr>\n",
       "    <tr>\n",
       "      <th>top</th>\n",
       "      <td>Throat Baby (Go Baby)</td>\n",
       "      <td>BTS</td>\n",
       "    </tr>\n",
       "    <tr>\n",
       "      <th>freq</th>\n",
       "      <td>1</td>\n",
       "      <td>7</td>\n",
       "    </tr>\n",
       "  </tbody>\n",
       "</table>\n",
       "</div>"
      ],
      "text/plain": [
       "                        songs artists\n",
       "count                     100     100\n",
       "unique                    100      82\n",
       "top     Throat Baby (Go Baby)     BTS\n",
       "freq                        1       7"
      ]
     },
     "execution_count": 114,
     "metadata": {},
     "output_type": "execute_result"
    }
   ],
   "source": [
    "topsongs.describe()"
   ]
  },
  {
   "cell_type": "code",
   "execution_count": 115,
   "metadata": {},
   "outputs": [
    {
     "data": {
      "text/html": [
       "<div>\n",
       "<style scoped>\n",
       "    .dataframe tbody tr th:only-of-type {\n",
       "        vertical-align: middle;\n",
       "    }\n",
       "\n",
       "    .dataframe tbody tr th {\n",
       "        vertical-align: top;\n",
       "    }\n",
       "\n",
       "    .dataframe thead th {\n",
       "        text-align: right;\n",
       "    }\n",
       "</style>\n",
       "<table border=\"1\" class=\"dataframe\">\n",
       "  <thead>\n",
       "    <tr style=\"text-align: right;\">\n",
       "      <th></th>\n",
       "      <th>songs</th>\n",
       "      <th>artists</th>\n",
       "    </tr>\n",
       "  </thead>\n",
       "  <tbody>\n",
       "    <tr>\n",
       "      <th>0</th>\n",
       "      <td>Life Goes On</td>\n",
       "      <td>BTS</td>\n",
       "    </tr>\n",
       "    <tr>\n",
       "      <th>1</th>\n",
       "      <td>Mood</td>\n",
       "      <td>24kGoldn Featuring iann dior</td>\n",
       "    </tr>\n",
       "    <tr>\n",
       "      <th>2</th>\n",
       "      <td>Dynamite</td>\n",
       "      <td>BTS</td>\n",
       "    </tr>\n",
       "    <tr>\n",
       "      <th>3</th>\n",
       "      <td>Positions</td>\n",
       "      <td>Ariana Grande</td>\n",
       "    </tr>\n",
       "    <tr>\n",
       "      <th>4</th>\n",
       "      <td>I Hope</td>\n",
       "      <td>Gabby Barrett Featuring Charlie Puth</td>\n",
       "    </tr>\n",
       "  </tbody>\n",
       "</table>\n",
       "</div>"
      ],
      "text/plain": [
       "          songs                               artists\n",
       "0  Life Goes On                                   BTS\n",
       "1          Mood          24kGoldn Featuring iann dior\n",
       "2      Dynamite                                   BTS\n",
       "3     Positions                         Ariana Grande\n",
       "4        I Hope  Gabby Barrett Featuring Charlie Puth"
      ]
     },
     "execution_count": 115,
     "metadata": {},
     "output_type": "execute_result"
    }
   ],
   "source": [
    "topsongs.head()"
   ]
  },
  {
   "cell_type": "code",
   "execution_count": null,
   "metadata": {},
   "outputs": [],
   "source": []
  }
 ],
 "metadata": {
  "kernelspec": {
   "display_name": "Bootcamp",
   "language": "python",
   "name": "bootcamp"
  },
  "language_info": {
   "codemirror_mode": {
    "name": "ipython",
    "version": 3
   },
   "file_extension": ".py",
   "mimetype": "text/x-python",
   "name": "python",
   "nbconvert_exporter": "python",
   "pygments_lexer": "ipython3",
   "version": "3.8.5"
  }
 },
 "nbformat": 4,
 "nbformat_minor": 4
}
